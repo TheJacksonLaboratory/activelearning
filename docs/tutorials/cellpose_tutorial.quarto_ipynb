{
  "cells": [
    {
      "cell_type": "markdown",
      "metadata": {},
      "source": [
        "---\n",
        "title: \"Tutorial: How to fine tune a Cellpose model\"\n",
        "author: Fernando Cervantes (fernando.cervantes@jax.org)\n",
        "format:\n",
        "  revealjs:\n",
        "    code-fold: false\n",
        "    progress: true\n",
        "    controls: true\n",
        "    fontsize: 22pt\n",
        "\n",
        "jupyter: python3\n",
        "---\n",
        "\n",
        "\n",
        "# 1 Image groups management\n",
        "\n",
        "## 1.1 Load a sample image\n",
        "\n",
        "You can use the cells 3D image sample from the napari's built-in samples.\n",
        "\n",
        "```\n",
        "File > Open Sample > napari builtins > Cells (3D+2Ch)\n",
        "```\n"
      ],
      "id": "e97a4294"
    },
    {
      "cell_type": "code",
      "metadata": {},
      "source": [
        "#| echo: false\n",
        "import napari\n",
        "from napari.utils import nbscreenshot\n",
        "from PIL import Image, ImageDraw, ImageFont\n",
        "import napari_activelearning as al\n",
        "import zarr"
      ],
      "id": "ef726e2f",
      "execution_count": null,
      "outputs": []
    },
    {
      "cell_type": "code",
      "metadata": {},
      "source": [
        "#| echo: false\n",
        "viewer = napari.Viewer()\n",
        "_ = viewer.open_sample(plugin=\"napari\", sample=\"cells3d\")"
      ],
      "id": "7fd45b30",
      "execution_count": null,
      "outputs": []
    },
    {
      "cell_type": "code",
      "metadata": {},
      "source": [
        "#| echo: false\n",
        "nbscreenshot(viewer)"
      ],
      "id": "3a5ba3c3",
      "execution_count": null,
      "outputs": []
    },
    {
      "cell_type": "markdown",
      "metadata": {},
      "source": [
        "## 1.2 Add the _Image Groups Manager_ widget to napari's window\n",
        "\n",
        "You can find the _Image group manager_ under the _Active Learning_ plugin in the napari's plugins menu.\n",
        "\n",
        "```\n",
        "Plugins > Active Learning > Image groups manager\n",
        "```\n"
      ],
      "id": "4fb57689"
    },
    {
      "cell_type": "code",
      "metadata": {},
      "source": [
        "#| echo: false\n",
        "image_groups_mgr, acquisition_fun_cfg, labels_mgr = al.get_active_learning_widget()"
      ],
      "id": "f15fa69a",
      "execution_count": null,
      "outputs": []
    },
    {
      "cell_type": "code",
      "metadata": {},
      "source": [
        "#| echo: false\n",
        "image_groups_mgr_dw = viewer.window.add_dock_widget(image_groups_mgr)"
      ],
      "id": "c3362079",
      "execution_count": null,
      "outputs": []
    },
    {
      "cell_type": "code",
      "metadata": {},
      "source": [
        "#| echo: false\n",
        "nbscreenshot(viewer)"
      ],
      "id": "d84dd0e2",
      "execution_count": null,
      "outputs": []
    },
    {
      "cell_type": "markdown",
      "metadata": {},
      "source": [
        "## 1.3 Create an _Image Group_ containing _nuclei_ and _membrane_ layers\n",
        "\n",
        "- Select the _nuclei_ and _membrane_ layer and click the _New Image Group_ button on the _Image Groups Manager_ widget.\n"
      ],
      "id": "1c63b9ef"
    },
    {
      "cell_type": "code",
      "metadata": {},
      "source": [
        "#| echo: false\n",
        "viewer.layers.selection.clear()\n",
        "viewer.layers.selection.add(viewer.layers[\"nuclei\"])\n",
        "viewer.layers.selection.add(viewer.layers[\"membrane\"])\n",
        "image_groups_mgr.create_group()"
      ],
      "id": "51287fc3",
      "execution_count": null,
      "outputs": []
    },
    {
      "cell_type": "code",
      "metadata": {},
      "source": [
        "#| echo: false\n",
        "nbscreenshot(viewer)"
      ],
      "id": "7c3c2dcb",
      "execution_count": null,
      "outputs": []
    },
    {
      "cell_type": "markdown",
      "metadata": {},
      "source": [
        "## 1.4 Edit the image group properties\n",
        "\n",
        ":::: {.columns}\n",
        "\n",
        "::: {.column width=0.3}\n",
        "- Select the newly created image group, it will appear as \"images\" in the _Image groups manager_ widget.\n",
        "\n",
        "- Click the _Edit group properties_ checkbox.\n",
        "\n",
        "- Make sure that _Axes order_ is \"CZYX\", otherwise, you can edit it and press _Enter_ to update the axes names.\n",
        ":::\n",
        "\n",
        "::: {.column width=0.7}"
      ],
      "id": "6f7a3c84"
    },
    {
      "cell_type": "code",
      "metadata": {},
      "source": [
        "#| echo: false\n",
        "image_groups_mgr.image_groups_editor._show_editor(True)\n",
        "image_groups_mgr._active_image_group.child(0).setSelected(True)\n",
        "image_groups_mgr.image_groups_editor.edit_axes_le.setText(\"CZYX\")\n",
        "image_groups_mgr.image_groups_editor.update_source_axes()"
      ],
      "id": "ee5b13b6",
      "execution_count": null,
      "outputs": []
    },
    {
      "cell_type": "code",
      "metadata": {},
      "source": [
        "#| echo: false\n",
        "screenshot = viewer.screenshot(canvas_only=False, flash=False)\n",
        "\n",
        "image = Image.fromarray(screenshot)\n",
        "\n",
        "org_height, org_width = screenshot.shape[:2]\n",
        "\n",
        "roi = (org_width * 0.7, 0, org_width, org_height)\n",
        "\n",
        "# Crop the image\n",
        "cropped_image = image.crop(roi)\n",
        "\n",
        "draw = ImageDraw.Draw(cropped_image)\n",
        "\n",
        "# Draw a red rectangle\n",
        "draw.rectangle([70, 250, 310, 280], outline=\"white\", width=5)\n",
        "draw.rectangle([70, 250, 310, 280], outline=\"green\", width=2)\n",
        "\n",
        "cropped_image"
      ],
      "id": "23ff59fc",
      "execution_count": null,
      "outputs": []
    },
    {
      "cell_type": "markdown",
      "metadata": {},
      "source": [
        ":::\n",
        "\n",
        "::::\n",
        "\n",
        "# 2 Segment the managed image groups\n",
        "\n",
        "## 2.1 Add the _Acquisition function configuration_ widget to napari's window\n",
        "\n",
        "The _Acquisition function configuration_ is under the _Active Learning_ plugin in the napari's plugins menu.\n",
        "\n",
        "```\n",
        "Plugins > Active Learning > Acquisition function configuration\n",
        "```\n"
      ],
      "id": "534a1f40"
    },
    {
      "cell_type": "code",
      "metadata": {},
      "source": [
        "#| echo: false\n",
        "acquisition_fun_cfg_dw = viewer.window.add_dock_widget(acquisition_fun_cfg)\n",
        "viewer.window._qt_window.tabifyDockWidget(image_groups_mgr_dw, acquisition_fun_cfg_dw)\n",
        "\n",
        "image_groups_mgr_dw.setWindowTitle(\"Image groups manager\")\n",
        "acquisition_fun_cfg_dw.setWindowTitle(\"Acquisition function configuration\")"
      ],
      "id": "8c565d45",
      "execution_count": null,
      "outputs": []
    },
    {
      "cell_type": "code",
      "metadata": {},
      "source": [
        "#| echo: false\n",
        "acquisition_fun_cfg_dw.raise_()"
      ],
      "id": "199e2302",
      "execution_count": null,
      "outputs": []
    },
    {
      "cell_type": "code",
      "metadata": {},
      "source": [
        "#| echo: false\n",
        "nbscreenshot(viewer)"
      ],
      "id": "af143943",
      "execution_count": null,
      "outputs": []
    },
    {
      "cell_type": "markdown",
      "metadata": {},
      "source": [
        "## 2.2 Define sampling configuration\n",
        "\n",
        ":::: {.columns}\n",
        "\n",
        "::: {.column width=0.3}\n",
        "### 2.2.1 Set the axes of the sampling space\n",
        "\n",
        "1. Make sure \"Input axes\" are set to \"ZYX\"\n",
        "\n",
        "::: {.callout-note}\n",
        "This specifies that the samples will be taken from those axes.\n",
        ":::\n",
        "\n",
        "2. Change the \"Model axes\" to \"CYX\"\n",
        "\n",
        ":::\n",
        "\n",
        "::: {.column width=0.3}\n"
      ],
      "id": "22e7af5b"
    },
    {
      "cell_type": "code",
      "metadata": {},
      "source": [
        "#| echo: false\n",
        "acquisition_fun_cfg.input_axes_le.setText(\"ZYX\")\n",
        "acquisition_fun_cfg._set_input_axes()\n",
        "acquisition_fun_cfg.model_axes_le.setText(\"CYX\")\n",
        "acquisition_fun_cfg._set_model_axes()"
      ],
      "id": "3bcb37d4",
      "execution_count": null,
      "outputs": []
    },
    {
      "cell_type": "code",
      "metadata": {},
      "source": [
        "#| echo: false\n",
        "screenshot = viewer.screenshot(canvas_only=False, flash=False)\n",
        "\n",
        "image = Image.fromarray(screenshot)\n",
        "\n",
        "org_height, org_width = screenshot.shape[:2]\n",
        "\n",
        "roi = (org_width * 0.7, 0, org_width, org_height)\n",
        "\n",
        "# Crop the image\n",
        "cropped_image = image.crop(roi)\n",
        "\n",
        "draw = ImageDraw.Draw(cropped_image)\n",
        "\n",
        "draw.rectangle([60, 390, 405, 425], outline=\"white\", width=5)\n",
        "draw.rectangle([60, 390, 405, 425], outline=\"green\", width=2)\n",
        "\n",
        "position = (250, 345)\n",
        "font = ImageFont.truetype(\"arialbd.ttf\", size=36)\n",
        "draw.text(position, \"1\", fill=\"green\", font=font)\n",
        "font = ImageFont.truetype(\"arial.ttf\", size=36)\n",
        "draw.text(position, \"1\", fill=\"white\", font=font)\n",
        "\n",
        "draw.rectangle([405, 390, 570, 425], outline=\"white\", width=5)\n",
        "draw.rectangle([405, 390, 570, 425], outline=\"green\", width=2)\n",
        "\n",
        "position = (490, 345)\n",
        "font = ImageFont.truetype(\"arialbd.ttf\", size=36)\n",
        "draw.text(position, \"2\", fill=\"green\", font=font)\n",
        "font = ImageFont.truetype(\"arial.ttf\", size=36)\n",
        "draw.text(position, \"2\", fill=\"white\", font=font)\n",
        "\n",
        "cropped_image"
      ],
      "id": "a12be33c",
      "execution_count": null,
      "outputs": []
    },
    {
      "cell_type": "markdown",
      "metadata": {},
      "source": [
        ":::\n",
        "\n",
        "::::\n",
        "\n",
        "---\n",
        "\n",
        "### 2.2.2 Set the size of the sampling patch\n",
        "\n",
        ":::: {.columns}\n",
        "\n",
        "::: {.column width=0.70}\n"
      ],
      "id": "99bf0c97"
    },
    {
      "cell_type": "code",
      "metadata": {},
      "source": [
        "#| echo: false\n",
        "acquisition_fun_cfg._show_patch_sizes(True)\n",
        "\n",
        "acquisition_fun_cfg.patch_sizes_mspn.sizes = {\"Z\": 1, \"Y\": 256, \"X\": 256}"
      ],
      "id": "d7a1aa80",
      "execution_count": null,
      "outputs": []
    },
    {
      "cell_type": "code",
      "metadata": {},
      "source": [
        "#| echo: false\n",
        "screenshot = viewer.screenshot(canvas_only=False, flash=False)\n",
        "\n",
        "image = Image.fromarray(screenshot)\n",
        "\n",
        "org_height, org_width = screenshot.shape[:2]\n",
        "\n",
        "roi = (org_width * 0.7, 0, org_width, org_height)\n",
        "\n",
        "# Crop the image\n",
        "cropped_image = image.crop(roi)\n",
        "\n",
        "draw = ImageDraw.Draw(cropped_image)\n",
        "\n",
        "# Draw a red rectangle\n",
        "draw.rectangle([70, 240, 470, 600], outline=\"white\", width=5)\n",
        "draw.rectangle([70, 240, 470, 600], outline=\"green\", width=2)\n",
        "\n",
        "cropped_image"
      ],
      "id": "1c6c4883",
      "execution_count": null,
      "outputs": []
    },
    {
      "cell_type": "markdown",
      "metadata": {},
      "source": [
        ":::\n",
        "\n",
        "::: {.column width=0.30}\n",
        "\n",
        "- Click the \"Edit patch size\" checkbox\n",
        "- Change the patch size of \"X\" and \"Y\" to 256, and the \"Z\" axis to 1.\n",
        "\n",
        ":::{.callout-note}\n",
        "This directs the Active Learning plugin to sample at random patches of size $256\\times256$ pixels, and $1$ slice of depth.\n",
        ":::\n",
        "\n",
        ":::\n",
        "\n",
        "::::\n",
        "\n",
        "## 2.3 Define the maximum number of samples to extract\n",
        "\n",
        ":::: {.columns}\n",
        "\n",
        "::: {.column width=0.7}\n"
      ],
      "id": "070d6da4"
    },
    {
      "cell_type": "code",
      "metadata": {},
      "source": [
        "#| echo: false\n",
        "acquisition_fun_cfg.max_samples_spn.setValue(4)"
      ],
      "id": "ca2eec70",
      "execution_count": null,
      "outputs": []
    },
    {
      "cell_type": "code",
      "metadata": {},
      "source": [
        "#| echo: false\n",
        "screenshot = viewer.screenshot(canvas_only=False, flash=False)\n",
        "\n",
        "image = Image.fromarray(screenshot)\n",
        "\n",
        "org_height, org_width = screenshot.shape[:2]\n",
        "\n",
        "roi = (org_width * 0.7, 0, org_width, org_height)\n",
        "\n",
        "# Crop the image\n",
        "cropped_image = image.crop(roi)\n",
        "\n",
        "draw = ImageDraw.Draw(cropped_image)\n",
        "\n",
        "# Draw a red rectangle\n",
        "draw.rectangle([60, 740, 405, 770], outline=\"white\", width=5)\n",
        "draw.rectangle([60, 740, 405, 770], outline=\"green\", width=2)\n",
        "\n",
        "cropped_image.resize((int(0.15 * org_width), int(org_height * 0.5)), Image.Resampling.LANCZOS)"
      ],
      "id": "4a5ddfdf",
      "execution_count": null,
      "outputs": []
    },
    {
      "cell_type": "markdown",
      "metadata": {},
      "source": [
        ":::\n",
        "\n",
        "::: {.column width=0.30}\n",
        "- Set the \"Maximum samples\" to $4$ and press _Enter_\n",
        "\n",
        ":::{.callout-note}\n",
        "This tells the Active Learning plugin to process at most _four_ samples at random from the whole image.\n",
        ":::\n",
        "\n",
        ":::\n",
        "\n",
        "::::\n",
        "\n",
        "\n",
        "## 2.4 Configure the segmentation method\n",
        "\n",
        ":::: {.columns}\n",
        "\n",
        "::: {.column width=0.3}\n",
        "\n",
        "1. Use the \"Model\" dropdown to select the `cellpose` method\n",
        "\n",
        "2. Click the \"Advanced segmentation parameters\" checkbox\n",
        "\n",
        "3. Change the \"Channel axis\" to $0$\n",
        "::: {.callout-note}\n",
        "This makes `cellpose` to use the first axis as \"Color\" channel.\n",
        ":::\n",
        "\n",
        "4. Change the second channel to $1$ (the right spin box in the \"channels\" row)\n",
        "\n",
        "::: {.callout-note}\n",
        "This tells `cellpose` to segment the first channel ($0$) and use the second channel ($1$) as help channel.\n",
        ":::\n",
        "\n",
        "5. Choose the \"nuclei\" model from the dropdown\n",
        "\n",
        "\n",
        ":::\n",
        "\n",
        "::: {.column width=0.7}"
      ],
      "id": "44e9ee07"
    },
    {
      "cell_type": "code",
      "metadata": {},
      "source": [
        "#| echo: false\n",
        "acquisition_fun_cfg.methods_cmb.setCurrentIndex(2)\n",
        "acquisition_fun_cfg.tunable_segmentation_method.advanced_segmentation_options_chk.setChecked(True)\n",
        "acquisition_fun_cfg.tunable_segmentation_method._segmentation_parameters.channel_axis.value = 0\n",
        "acquisition_fun_cfg.tunable_segmentation_method._segmentation_parameters.channels.value = (0, 1)\n",
        "acquisition_fun_cfg.tunable_segmentation_method._segmentation_parameters.model_type.value = \"nuclei\""
      ],
      "id": "9855435d",
      "execution_count": null,
      "outputs": []
    },
    {
      "cell_type": "code",
      "metadata": {},
      "source": [
        "#| echo: false\n",
        "screenshot = viewer.screenshot(canvas_only=False, flash=False)\n",
        "\n",
        "image = Image.fromarray(screenshot)\n",
        "\n",
        "org_height, org_width = screenshot.shape[:2]\n",
        "\n",
        "roi = (org_width * 0.7, 0, org_width, org_height)\n",
        "\n",
        "# Crop the image\n",
        "cropped_image = image.crop(roi)\n",
        "\n",
        "draw = ImageDraw.Draw(cropped_image)\n",
        "\n",
        "# Draw a red rectangle\n",
        "draw.rectangle([55, 490, 570, 520], outline=\"white\", width=5)\n",
        "draw.rectangle([55, 490, 570, 520], outline=\"green\", width=2)\n",
        "\n",
        "position = (550, 450)\n",
        "font = ImageFont.truetype(\"arialbd.ttf\", size=36)\n",
        "draw.text(position, \"1\", fill=\"green\", font=font)\n",
        "font = ImageFont.truetype(\"arial.ttf\", size=36)\n",
        "draw.text(position, \"1\", fill=\"white\", font=font)\n",
        "\n",
        "draw.rectangle([65, 525, 310, 560], outline=\"white\", width=5)\n",
        "draw.rectangle([65, 525, 310, 560], outline=\"green\", width=2)\n",
        "\n",
        "position = (320, 525)\n",
        "font = ImageFont.truetype(\"arialbd.ttf\", size=36)\n",
        "draw.text(position, \"2\", fill=\"green\", font=font)\n",
        "font = ImageFont.truetype(\"arial.ttf\", size=36)\n",
        "draw.text(position, \"2\", fill=\"white\", font=font)\n",
        "\n",
        "draw.rectangle([390, 655, 550, 690], outline=\"white\", width=5)\n",
        "draw.rectangle([390, 655, 550, 690], outline=\"green\", width=2)\n",
        "\n",
        "position = (400, 545)\n",
        "font = ImageFont.truetype(\"arialbd.ttf\", size=36)\n",
        "draw.text(position, \"3\", fill=\"green\", font=font)\n",
        "font = ImageFont.truetype(\"arial.ttf\", size=36)\n",
        "draw.text(position, \"3\", fill=\"white\", font=font)\n",
        "\n",
        "draw.rectangle([235, 580, 550, 615], outline=\"white\", width=5)\n",
        "draw.rectangle([235, 580, 550, 615], outline=\"green\", width=2)\n",
        "\n",
        "position = (450, 615)\n",
        "font = ImageFont.truetype(\"arialbd.ttf\", size=36)\n",
        "draw.text(position, \"4\", fill=\"green\", font=font)\n",
        "font = ImageFont.truetype(\"arial.ttf\", size=36)\n",
        "draw.text(position, \"4\", fill=\"white\", font=font)\n",
        "\n",
        "draw.rectangle([70, 725, 550, 765], outline=\"white\", width=5)\n",
        "draw.rectangle([70, 725, 550, 765], outline=\"green\", width=2)\n",
        "\n",
        "position = (450, 770)\n",
        "font = ImageFont.truetype(\"arialbd.ttf\", size=36)\n",
        "draw.text(position, \"5\", fill=\"green\", font=font)\n",
        "font = ImageFont.truetype(\"arial.ttf\", size=36)\n",
        "draw.text(position, \"5\", fill=\"white\", font=font)\n",
        "\n",
        "cropped_image.resize((int(0.15 * org_width), int(org_height * 0.5)), Image.Resampling.LANCZOS)"
      ],
      "id": "604e121d",
      "execution_count": null,
      "outputs": []
    },
    {
      "cell_type": "markdown",
      "metadata": {},
      "source": [
        ":::\n",
        "\n",
        "::::\n",
        "\n",
        "## 2.5 Execute the segmentation method on all image groups\n",
        "\n",
        ":::: {.columns}\n",
        "\n",
        "::: {.column width=0.3}\n",
        "- Click the \"Run on all image groups\"\n",
        "\n",
        "::: {.callout-note}\n",
        "To execute the segmentation only on specific image groups, select the desired image groups in the _Image groups manager_ widget and use the \"Run on selected image groups\" button instead.\n",
        ":::\n",
        "\n",
        ":::\n",
        "\n",
        "::: {.column width=0.7}"
      ],
      "id": "3ae56237"
    },
    {
      "cell_type": "code",
      "metadata": {},
      "source": [
        "#| echo: false\n",
        "screenshot = viewer.screenshot(canvas_only=False, flash=False)\n",
        "\n",
        "image = Image.fromarray(screenshot)\n",
        "\n",
        "org_height, org_width = screenshot.shape[:2]\n",
        "\n",
        "roi = (org_width * 0.7, 0, org_width, org_height)\n",
        "\n",
        "# Crop the image\n",
        "cropped_image = image.crop(roi)\n",
        "\n",
        "draw = ImageDraw.Draw(cropped_image)\n",
        "\n",
        "# Draw a red rectangle\n",
        "draw.rectangle([245, 850, 405, 880], outline=\"white\", width=5)\n",
        "draw.rectangle([245, 850, 405, 880], outline=\"green\", width=2)\n",
        "\n",
        "cropped_image.resize((int(0.15 * org_width), int(org_height * 0.5)), Image.Resampling.LANCZOS)"
      ],
      "id": "604ff3e7",
      "execution_count": null,
      "outputs": []
    },
    {
      "cell_type": "code",
      "metadata": {},
      "source": [
        "#| echo: false\n",
        "_ = acquisition_fun_cfg.compute_acquisition_layers(run_all=True)"
      ],
      "id": "d35b902b",
      "execution_count": null,
      "outputs": []
    },
    {
      "cell_type": "markdown",
      "metadata": {},
      "source": [
        ":::\n",
        "\n",
        "::::\n",
        "\n",
        "## 2.6 Inspect the segmentation layer\n",
        "\n",
        "::: {.callout-note}\n",
        "Because the input image is 3D, you might have to slide the Z index on the bottom of napari's window to look at the samples that have been segmented.\n",
        ":::\n"
      ],
      "id": "098f3c9a"
    },
    {
      "cell_type": "code",
      "metadata": {},
      "source": [
        "#| echo: false\n",
        "labels_mgr.focus_region(\n",
        "  labels_mgr.labels_group_root.child(0).child(0)\n",
        ")"
      ],
      "id": "5c70be38",
      "execution_count": null,
      "outputs": []
    },
    {
      "cell_type": "code",
      "metadata": {},
      "source": [
        "#| echo: false\n",
        "screenshot = viewer.screenshot(canvas_only=False, flash=False)\n",
        "\n",
        "image = Image.fromarray(screenshot)\n",
        "\n",
        "draw = ImageDraw.Draw(image)\n",
        "\n",
        "# Draw a red rectangle\n",
        "draw.rectangle([295, 1080, 1380, 1110], outline=\"white\", width=5)\n",
        "draw.rectangle([295, 1080, 1380, 1115], outline=\"green\", width=2)\n",
        "\n",
        "image"
      ],
      "id": "885ec293",
      "execution_count": null,
      "outputs": []
    },
    {
      "cell_type": "markdown",
      "metadata": {},
      "source": [
        "# 3 Segment masked regions only\n",
        "\n",
        "## 3.1 Create a mask to restrict the sampling space\n",
        "\n",
        "### 3.1.1 Add a mask layer to the image group\n",
        "\n",
        ":::: {.columns}\n",
        "::: {.column width=0.3}\n",
        "- Switch to the \"Image groups manager\" tab\n",
        "- Click the \"Edit mask properties\" checkbox\n",
        ":::\n",
        "\n",
        "::: {.column width=0.7}"
      ],
      "id": "60c55ddf"
    },
    {
      "cell_type": "code",
      "metadata": {},
      "source": [
        "#| echo: false\n",
        "image_groups_mgr_dw.raise_()"
      ],
      "id": "9e60c1f4",
      "execution_count": null,
      "outputs": []
    },
    {
      "cell_type": "code",
      "metadata": {},
      "source": [
        "#| echo: false\n",
        "screenshot = viewer.screenshot(canvas_only=False, flash=False)\n",
        "\n",
        "image = Image.fromarray(screenshot)\n",
        "\n",
        "org_height, org_width = screenshot.shape[:2]\n",
        "\n",
        "roi = (org_width * 0.7, 0, org_width, org_height)\n",
        "\n",
        "# Crop the image\n",
        "cropped_image = image.crop(roi)\n",
        "\n",
        "draw = ImageDraw.Draw(cropped_image)\n",
        "\n",
        "# Draw a red rectangle\n",
        "draw.rectangle([65, 380, 225, 415], outline=\"white\", width=5)\n",
        "draw.rectangle([65, 380, 225, 415], outline=\"green\", width=2)\n",
        "\n",
        "cropped_image"
      ],
      "id": "673031c2",
      "execution_count": null,
      "outputs": []
    },
    {
      "cell_type": "code",
      "metadata": {},
      "source": [
        "image_groups_mgr.mask_generator._show_editor(True)"
      ],
      "id": "ac88e6e6",
      "execution_count": null,
      "outputs": []
    },
    {
      "cell_type": "markdown",
      "metadata": {},
      "source": [
        ":::\n",
        "\n",
        "::::\n",
        "\n",
        "---\n",
        "\n",
        "### 3.1.2 Create a low resolution mask for its corresponding image\n",
        "\n",
        ":::: {.columns}\n",
        ":::{.column width=0.3}\n",
        "1. Set the mask scale to $256$ for the \"X\" and \"Y\" axes, and a scale of $1$ for the \"Z\" axis\n",
        "\n",
        "2. Click the \"Create mask\" button\n",
        "\n",
        ":::{.callout-note}\n",
        "This creates a low-resolution mask where each pixel corresponds to a $256\\times256$ pixels region in the input image.\n",
        "Because the mask is low-resolution, it uses less space (in memory RAM and disk).\n",
        ":::\n",
        "\n",
        ":::\n",
        "\n",
        ":::{.column width=0.7}"
      ],
      "id": "9bfb162c"
    },
    {
      "cell_type": "code",
      "metadata": {},
      "source": [
        "#| echo: false\n",
        "image_groups_mgr.mask_generator.patch_sizes_mspn.sizes = {\"Z\": 1, \"Y\": 256, \"X\": 256}\n",
        "image_groups_mgr.mask_generator.generate_mask_layer()"
      ],
      "id": "4ca4b9af",
      "execution_count": null,
      "outputs": []
    },
    {
      "cell_type": "code",
      "metadata": {},
      "source": [
        "#| echo: false\n",
        "screenshot = viewer.screenshot(canvas_only=False, flash=False)\n",
        "\n",
        "image = Image.fromarray(screenshot)\n",
        "\n",
        "org_height, org_width = screenshot.shape[:2]\n",
        "\n",
        "roi = (org_width * 0.7, 0, org_width, org_height)\n",
        "\n",
        "# Crop the image\n",
        "cropped_image = image.crop(roi)\n",
        "\n",
        "draw = ImageDraw.Draw(cropped_image)\n",
        "\n",
        "# Draw a red rectangle\n",
        "draw.rectangle([60, 450, 550, 600], outline=\"white\", width=5)\n",
        "draw.rectangle([60, 450, 550, 600], outline=\"green\", width=2)\n",
        "\n",
        "position = (500, 400)\n",
        "font = ImageFont.truetype(\"arialbd.ttf\", size=36)\n",
        "draw.text(position, \"1\", fill=\"green\", font=font)\n",
        "font = ImageFont.truetype(\"arial.ttf\", size=36)\n",
        "draw.text(position, \"1\", fill=\"white\", font=font)\n",
        "\n",
        "draw.rectangle([70, 620, 560, 650], outline=\"white\", width=5)\n",
        "draw.rectangle([70, 620, 560, 650], outline=\"green\", width=2)\n",
        "\n",
        "position = (530, 650)\n",
        "font = ImageFont.truetype(\"arialbd.ttf\", size=36)\n",
        "draw.text(position, \"2\", fill=\"green\", font=font)\n",
        "font = ImageFont.truetype(\"arial.ttf\", size=36)\n",
        "draw.text(position, \"2\", fill=\"white\", font=font)\n",
        "\n",
        "cropped_image"
      ],
      "id": "dec004a3",
      "execution_count": null,
      "outputs": []
    },
    {
      "cell_type": "markdown",
      "metadata": {},
      "source": [
        ":::\n",
        "::::\n",
        "\n",
        "\n",
        "## 3.1.3 Specify the samplable regions\n",
        "\n",
        "- Draw a mask on slices $27$ to $30$ in the \"Z\" axis.\n",
        "\n",
        ":::{.callout-note}\n",
        "You can move the slider at the bottom of napari's window to navigate between slices in the \"Z\" axis.\n",
        ":::\n"
      ],
      "id": "b5bdf978"
    },
    {
      "cell_type": "code",
      "metadata": {},
      "source": [
        "#| echo: false\n",
        "viewer.camera.center = (27, 128, 128)\n",
        "viewer.dims.current_step = (27, 128, 128)\n",
        "\n",
        "viewer.layers[\"images mask\"].data[0, 0, 27:31, 0, 0] = 1\n",
        "viewer.layers[\"images mask\"].refresh()"
      ],
      "id": "7fb3ba4f",
      "execution_count": null,
      "outputs": []
    },
    {
      "cell_type": "code",
      "metadata": {},
      "source": [
        "#| echo: false\n",
        "screenshot = viewer.screenshot(canvas_only=False, flash=False)\n",
        "\n",
        "image = Image.fromarray(screenshot)\n",
        "\n",
        "image"
      ],
      "id": "6ff66d54",
      "execution_count": null,
      "outputs": []
    },
    {
      "cell_type": "markdown",
      "metadata": {},
      "source": [
        "## 3.2 Execute the segmentation process on the masked regions\n",
        "\n",
        ":::: {.columns}\n",
        "::: {.column width=0.3}\n",
        "- Go back to the \"Acquisition function configuration\" widget\n",
        "- Click the \"Run on all image groups\" button again\n",
        "\n",
        "::: {.callout-note}\n",
        "Because the image group has a defined mask, samples will be extracted at random inside those defined regions only.\n",
        ":::\n",
        "\n",
        ":::\n",
        "\n",
        "::: {.column width=0.7}"
      ],
      "id": "6b9fdbe0"
    },
    {
      "cell_type": "code",
      "metadata": {},
      "source": [
        "#| echo: false\n",
        "acquisition_fun_cfg_dw.raise_()"
      ],
      "id": "dd5158a2",
      "execution_count": null,
      "outputs": []
    },
    {
      "cell_type": "code",
      "metadata": {},
      "source": [
        "#| echo: false\n",
        "screenshot = viewer.screenshot(canvas_only=False, flash=False)\n",
        "\n",
        "image = Image.fromarray(screenshot)\n",
        "\n",
        "org_height, org_width = screenshot.shape[:2]\n",
        "\n",
        "roi = (org_width * 0.7, 0, org_width, org_height)\n",
        "\n",
        "# Crop the image\n",
        "cropped_image = image.crop(roi)\n",
        "\n",
        "draw = ImageDraw.Draw(cropped_image)\n",
        "\n",
        "# Draw a red rectangle\n",
        "draw.rectangle([245, 850, 400, 890], outline=\"white\", width=5)\n",
        "draw.rectangle([245, 850, 400, 890], outline=\"green\", width=2)\n",
        "\n",
        "cropped_image.resize((int(0.15 * org_width), int(org_height * 0.5)), Image.Resampling.LANCZOS)"
      ],
      "id": "c0fa998d",
      "execution_count": null,
      "outputs": []
    },
    {
      "cell_type": "code",
      "metadata": {},
      "source": [
        "#| echo: false\n",
        "_ = acquisition_fun_cfg.compute_acquisition_layers(run_all=True)"
      ],
      "id": "671da31b",
      "execution_count": null,
      "outputs": []
    },
    {
      "cell_type": "markdown",
      "metadata": {},
      "source": [
        ":::\n",
        "\n",
        "::::\n",
        "\n",
        "## 3.3 Inspect the masked segmentation output\n"
      ],
      "id": "25f528ed"
    },
    {
      "cell_type": "code",
      "metadata": {},
      "source": [
        "#| echo: false\n",
        "screenshot = viewer.screenshot(canvas_only=False, flash=False)\n",
        "\n",
        "image = Image.fromarray(screenshot)\n",
        "image"
      ],
      "id": "0042b4aa",
      "execution_count": null,
      "outputs": []
    },
    {
      "cell_type": "markdown",
      "metadata": {},
      "source": [
        "# 4. Fine tune the segmentation model\n",
        "\n",
        "## 4.1 Add the _Label groups manager_ widget to napari's window\n",
        "\n",
        "You can find the _Label groups manager_ under the _Active Learning_ plugin in the napari's plugins menu.\n",
        "\n",
        "```\n",
        "Plugins > Active Learning > Label groups manager\n",
        "```\n"
      ],
      "id": "783acbf6"
    },
    {
      "cell_type": "code",
      "metadata": {},
      "source": [
        "#| echo: false\n",
        "labels_mgr_dw = viewer.window.add_dock_widget(labels_mgr)\n",
        "viewer.window._qt_window.tabifyDockWidget(acquisition_fun_cfg_dw, labels_mgr_dw)\n",
        "\n",
        "labels_mgr_dw.setWindowTitle(\"Label groups manager\")"
      ],
      "id": "e8332b1b",
      "execution_count": null,
      "outputs": []
    },
    {
      "cell_type": "code",
      "metadata": {},
      "source": [
        "#| echo: false\n",
        "labels_mgr_dw.raise_()"
      ],
      "id": "1b0536a5",
      "execution_count": null,
      "outputs": []
    },
    {
      "cell_type": "code",
      "metadata": {},
      "source": [
        "#| echo: false\n",
        "screenshot = viewer.screenshot(canvas_only=False, flash=False)\n",
        "\n",
        "image = Image.fromarray(screenshot)\n",
        "image"
      ],
      "id": "a5f25f04",
      "execution_count": null,
      "outputs": []
    },
    {
      "cell_type": "markdown",
      "metadata": {},
      "source": [
        "## 4.2 Edit segmented patches\n",
        "\n",
        "### 4.2.1. Select a segmented patch to edit\n",
        "\n",
        "- You can double click on any segmented patch in the viewer \n",
        "(e.g. on slice $27$)\n"
      ],
      "id": "80bac7a0"
    },
    {
      "cell_type": "code",
      "metadata": {},
      "source": [
        "#| echo: false\n",
        "labels_mgr.labels_table_tw.setCurrentItem(labels_mgr.labels_group_root.child(1).child(3), 0)\n",
        "labels_mgr.focus_region(\n",
        "  labels_mgr.labels_group_root.child(1).child(3),\n",
        "  edit_focused_label=True\n",
        ")"
      ],
      "id": "28f84458",
      "execution_count": null,
      "outputs": []
    },
    {
      "cell_type": "code",
      "metadata": {},
      "source": [
        "#| echo: false\n",
        "screenshot = viewer.screenshot(canvas_only=False, flash=False)\n",
        "\n",
        "image = Image.fromarray(screenshot)\n",
        "image"
      ],
      "id": "f1c0e905",
      "execution_count": null,
      "outputs": []
    },
    {
      "cell_type": "markdown",
      "metadata": {},
      "source": [
        "---\n",
        "\n",
        "### 4.2.2. Use napari's layer controls to make changes on the objects of the current patch\n"
      ],
      "id": "42f97e59"
    },
    {
      "cell_type": "code",
      "metadata": {},
      "source": [
        "#| echo: false\n",
        "screenshot = viewer.screenshot(canvas_only=False, flash=False)\n",
        "\n",
        "image = Image.fromarray(screenshot)\n",
        "image\n",
        "\n",
        "\n",
        "draw = ImageDraw.Draw(image)\n",
        "\n",
        "# Draw a red rectangle\n",
        "draw.rectangle([5, 20, 280, 450], outline=\"white\", width=5)\n",
        "draw.rectangle([5, 20, 280, 450], outline=\"green\", width=2)\n",
        "\n",
        "image"
      ],
      "id": "43532cb7",
      "execution_count": null,
      "outputs": []
    },
    {
      "cell_type": "markdown",
      "metadata": {},
      "source": [
        "---\n",
        "\n",
        "### 4.2.3. Commit changes to the labels layer\n",
        "\n",
        ":::: {.columns}\n",
        "::: {.column width=0.3}\n",
        "\n",
        "- Once you have finished editing the labels, click the \"Commit changes\" button on the _Label groups manager_\n",
        ":::\n",
        "\n",
        "::: {.column width=0.7}"
      ],
      "id": "336a7cea"
    },
    {
      "cell_type": "code",
      "metadata": {},
      "source": [
        "#| echo: false\n",
        "z_tmp = zarr.open(r\"C:\\Users\\cervaf\\Documents\\Logging\\activelearning_logs\\membrane.zarr\\segmentation\\0\", mode=\"r\")"
      ],
      "id": "8a16faa5",
      "execution_count": null,
      "outputs": []
    },
    {
      "cell_type": "code",
      "metadata": {},
      "source": [
        "#| echo: false\n",
        "labels_mgr.labels_group_root.child(1).child(3)._position\n",
        "viewer.layers[\"Labels edit\"].data[:] = z_tmp[labels_mgr.labels_group_root.child(1).child(3)._position]\n",
        "labels_mgr.commit()"
      ],
      "id": "6934c785",
      "execution_count": null,
      "outputs": []
    },
    {
      "cell_type": "code",
      "metadata": {},
      "source": [
        "#| echo: false\n",
        "screenshot = viewer.screenshot(canvas_only=False, flash=False)\n",
        "\n",
        "image = Image.fromarray(screenshot)\n",
        "\n",
        "org_height, org_width = screenshot.shape[:2]\n",
        "\n",
        "roi = (org_width * 0.7, 0, org_width, org_height)\n",
        "\n",
        "# Crop the image\n",
        "cropped_image = image.crop(roi)\n",
        "\n",
        "draw = ImageDraw.Draw(cropped_image)\n",
        "\n",
        "# Draw a red rectangle\n",
        "draw.rectangle([305, 900, 570, 940], outline=\"white\", width=5)\n",
        "draw.rectangle([305, 900, 570, 940], outline=\"green\", width=2)\n",
        "\n",
        "cropped_image.resize((int(0.15 * org_width), int(org_height * 0.5)), Image.Resampling.LANCZOS)"
      ],
      "id": "b55d1c5a",
      "execution_count": null,
      "outputs": []
    },
    {
      "cell_type": "markdown",
      "metadata": {},
      "source": [
        ":::\n",
        "::::\n",
        "\n",
        "## 4.3 Navigate between segmented patches\n",
        "\n",
        ":::: {.columns}\n",
        "::: {.column width=0.3}\n",
        "\n",
        "1. Expand the second group of labels \n",
        "\n",
        "2. Double-click on any of the nested items to open it for editing\n",
        "\n",
        "3. Use the navigation buttons to move between segmented patches\n",
        "\n",
        "4. Continue editing the segmentation in the current patch and commit the changes when finish\n",
        ":::\n",
        "\n",
        "::: {.column width=0.7}\n"
      ],
      "id": "d13279b2"
    },
    {
      "cell_type": "code",
      "metadata": {},
      "source": [
        "#| echo: false\n",
        "labels_mgr.labels_table_tw.expandItem(labels_mgr.labels_group_root.child(1))\n",
        "labels_mgr.labels_table_tw.setCurrentItem(labels_mgr.labels_group_root.child(1).child(0), 0)\n",
        "labels_mgr.focus_region(\n",
        "  labels_mgr.labels_group_root.child(1).child(0),\n",
        "  edit_focused_label=True\n",
        ")"
      ],
      "id": "98650afb",
      "execution_count": null,
      "outputs": []
    },
    {
      "cell_type": "code",
      "metadata": {},
      "source": [
        "#| echo: false\n",
        "screenshot = viewer.screenshot(canvas_only=False, flash=False)\n",
        "\n",
        "image = Image.fromarray(screenshot)\n",
        "\n",
        "org_height, org_width = image.height, image.width\n",
        "\n",
        "roi = (org_width * 0.7, 0, org_width, org_height)\n",
        "\n",
        "# Crop the image\n",
        "cropped_image = image.crop(roi)\n",
        "\n",
        "draw = ImageDraw.Draw(cropped_image)\n",
        "\n",
        "# Draw a red rectangle\n",
        "draw.rectangle([70, 115, 270, 140], outline=\"white\", width=5)\n",
        "draw.rectangle([70, 115, 270, 140], outline=\"green\", width=2)\n",
        "\n",
        "position = (50, 105)\n",
        "font = ImageFont.truetype(\"arialbd.ttf\", size=36)\n",
        "draw.text(position, \"1\", fill=\"green\", font=font)\n",
        "font = ImageFont.truetype(\"arial.ttf\", size=36)\n",
        "draw.text(position, \"1\", fill=\"white\", font=font)\n",
        "\n",
        "draw.rectangle([110, 135, 560, 215], outline=\"white\", width=5)\n",
        "draw.rectangle([110, 135, 560, 215], outline=\"green\", width=2)\n",
        "\n",
        "position = (80, 150)\n",
        "font = ImageFont.truetype(\"arialbd.ttf\", size=36)\n",
        "draw.text(position, \"2\", fill=\"green\", font=font)\n",
        "font = ImageFont.truetype(\"arial.ttf\", size=36)\n",
        "draw.text(position, \"2\", fill=\"white\", font=font)\n",
        "\n",
        "draw.rectangle([60, 870, 570, 905], outline=\"white\", width=5)\n",
        "draw.rectangle([60, 870, 570, 905], outline=\"green\", width=2)\n",
        "\n",
        "position = (290, 820)\n",
        "font = ImageFont.truetype(\"arialbd.ttf\", size=36)\n",
        "draw.text(position, \"3\", fill=\"green\", font=font)\n",
        "font = ImageFont.truetype(\"arial.ttf\", size=36)\n",
        "draw.text(position, \"3\", fill=\"white\", font=font)\n",
        "\n",
        "# Draw a red rectangle\n",
        "draw.rectangle([305, 900, 570, 940], outline=\"white\", width=5)\n",
        "draw.rectangle([305, 900, 570, 940], outline=\"green\", width=2)\n",
        "\n",
        "position = (270, 905)\n",
        "font = ImageFont.truetype(\"arialbd.ttf\", size=36)\n",
        "draw.text(position, \"4\", fill=\"green\", font=font)\n",
        "font = ImageFont.truetype(\"arial.ttf\", size=36)\n",
        "draw.text(position, \"4\", fill=\"white\", font=font)\n",
        "\n",
        "cropped_image.resize((int(0.15 * org_width), int(org_height * 0.5)), Image.Resampling.LANCZOS)"
      ],
      "id": "d53dfb99",
      "execution_count": null,
      "outputs": []
    },
    {
      "cell_type": "code",
      "metadata": {},
      "source": [
        "#| echo: false\n",
        "for c_idx in range(labels_mgr.labels_group_root.child(1).childCount()):\n",
        "    labels_mgr.focus_region(\n",
        "        labels_mgr.labels_group_root.child(1).child(c_idx),\n",
        "        edit_focused_label=True\n",
        "    )\n",
        "    labels_mgr.labels_group_root.child(1).child(c_idx)._position\n",
        "    viewer.layers[\"Labels edit\"].data[:] = z_tmp[labels_mgr.labels_group_root.child(1).child(c_idx)._position]\n",
        "    labels_mgr.commit()"
      ],
      "id": "dd3f78e2",
      "execution_count": null,
      "outputs": []
    },
    {
      "cell_type": "markdown",
      "metadata": {},
      "source": [
        ":::\n",
        "\n",
        "::::\n",
        "\n",
        "## 4.4 Setup fine tuning configuration\n",
        "\n",
        "### 4.4.1 Use the _Acquisition function configuration_ widget to set the configuration for executing the fine tuning process\n",
        "\n",
        "1. Go to the \"Acquisition function configuration\" widget\n",
        "\n",
        "2. Click the \"Advanced fine tuning parameters\" checkbox\n",
        "\n",
        "3. Change the \"save path\" to a location where you want to store the fine tuned model\n"
      ],
      "id": "572025f2"
    },
    {
      "cell_type": "code",
      "metadata": {},
      "source": [
        "#| echo: false\n",
        "acquisition_fun_cfg_dw.raise_()"
      ],
      "id": "00c7dbdd",
      "execution_count": null,
      "outputs": []
    },
    {
      "cell_type": "code",
      "metadata": {},
      "source": [
        "#| echo: false\n",
        "acquisition_fun_cfg.tunable_segmentation_method.advanced_finetuning_options_chk.setChecked(True)\n",
        "acquisition_fun_cfg.tunable_segmentation_method._finetuning_parameters.save_path.value = \"C:/Users/Public/Documents/models\""
      ],
      "id": "4bd127a4",
      "execution_count": null,
      "outputs": []
    },
    {
      "cell_type": "code",
      "metadata": {},
      "source": [
        "#| echo: false\n",
        "screenshot = viewer.screenshot(canvas_only=False, flash=False)\n",
        "\n",
        "image = Image.fromarray(screenshot)\n",
        "\n",
        "org_height, org_width = image.height, image.width\n",
        "\n",
        "roi = (org_width * 0.7, 0, org_width, org_height)\n",
        "\n",
        "# Crop the image\n",
        "cropped_image = image.crop(roi)\n",
        "\n",
        "draw = ImageDraw.Draw(cropped_image)\n",
        "\n",
        "# Draw a red rectangle\n",
        "draw.rectangle([185, 965, 385, 1000], outline=\"white\", width=5)\n",
        "draw.rectangle([185, 965, 385, 1000], outline=\"green\", width=2)\n",
        "\n",
        "position = (200, 920)\n",
        "font = ImageFont.truetype(\"arialbd.ttf\", size=36)\n",
        "draw.text(position, \"1\", fill=\"green\", font=font)\n",
        "font = ImageFont.truetype(\"arial.ttf\", size=36)\n",
        "draw.text(position, \"1\", fill=\"white\", font=font)\n",
        "\n",
        "draw.rectangle([75, 690, 540, 725], outline=\"white\", width=5)\n",
        "draw.rectangle([75, 690, 540, 725], outline=\"green\", width=2)\n",
        "\n",
        "position = (40, 490)\n",
        "font = ImageFont.truetype(\"arialbd.ttf\", size=36)\n",
        "draw.text(position, \"2\", fill=\"green\", font=font)\n",
        "font = ImageFont.truetype(\"arial.ttf\", size=36)\n",
        "draw.text(position, \"2\", fill=\"white\", font=font)\n",
        "\n",
        "draw.rectangle([65, 495, 300, 535], outline=\"white\", width=5)\n",
        "draw.rectangle([65, 495, 300, 535], outline=\"green\", width=2)\n",
        "\n",
        "position = (50, 690)\n",
        "font = ImageFont.truetype(\"arialbd.ttf\", size=36)\n",
        "draw.text(position, \"3\", fill=\"green\", font=font)\n",
        "font = ImageFont.truetype(\"arial.ttf\", size=36)\n",
        "draw.text(position, \"3\", fill=\"white\", font=font)\n",
        "\n",
        "cropped_image.resize((int(0.15 * org_width), int(org_height * 0.5)), Image.Resampling.LANCZOS)"
      ],
      "id": "b937b746",
      "execution_count": null,
      "outputs": []
    },
    {
      "cell_type": "markdown",
      "metadata": {},
      "source": [
        "---\n",
        "\n",
        "### 4.4.2 Set the *learning rate* and *batch size*\n",
        "\n",
        "1. Scroll the _Advanced fine tuning parameters_ widget down to show more parameters\n",
        "\n",
        "3. Change the \"model name\" to \"nuclei_ft\"\n",
        "\n",
        "3. Set the \"batch size\" to $3$\n",
        "\n",
        "4. Change the \"learning rate\" to $0.0001$\n",
        "\n",
        "::: {.callout-note}\n",
        "You can modify other parameters for the training process here, such as the number of training epochs.\n",
        ":::\n"
      ],
      "id": "8bb63596"
    },
    {
      "cell_type": "code",
      "metadata": {},
      "source": [
        "#| echo: false\n",
        "vertical_scroll_bar = acquisition_fun_cfg.tunable_segmentation_method._finetuning_parameters_scr.verticalScrollBar()\n",
        "vertical_scroll_bar.setValue(vertical_scroll_bar.maximum())\n",
        " \n",
        "acquisition_fun_cfg.tunable_segmentation_method._finetuning_parameters.model_name.value = \"nuclei_ft\"\n",
        "acquisition_fun_cfg.tunable_segmentation_method._finetuning_parameters.batch_size.value = 3\n",
        "acquisition_fun_cfg.tunable_segmentation_method._finetuning_parameters.learning_rate.value = 0.0001"
      ],
      "id": "b7a06529",
      "execution_count": null,
      "outputs": []
    },
    {
      "cell_type": "code",
      "metadata": {},
      "source": [
        "#| echo: false\n",
        "screenshot = viewer.screenshot(canvas_only=False, flash=False)\n",
        "\n",
        "image = Image.fromarray(screenshot)\n",
        "\n",
        "org_height, org_width = image.height, image.width\n",
        "\n",
        "roi = (org_width * 0.7, 0, org_width, org_height)\n",
        "\n",
        "# Crop the image\n",
        "cropped_image = image.crop(roi)\n",
        "\n",
        "draw = ImageDraw.Draw(cropped_image)\n",
        "\n",
        "# Draw a red rectangle\n",
        "draw.rectangle([535, 525, 565, 845], outline=\"white\", width=5)\n",
        "draw.rectangle([535, 525, 565, 845], outline=\"green\", width=2)\n",
        "\n",
        "position = (515, 480)\n",
        "font = ImageFont.truetype(\"arialbd.ttf\", size=36)\n",
        "draw.text(position, \"1\", fill=\"green\", font=font)\n",
        "font = ImageFont.truetype(\"arial.ttf\", size=36)\n",
        "draw.text(position, \"1\", fill=\"white\", font=font)\n",
        "\n",
        "draw.rectangle([50, 725, 540, 755], outline=\"white\", width=5)\n",
        "draw.rectangle([50, 725, 540, 755], outline=\"green\", width=2)\n",
        "\n",
        "position = (20, 720)\n",
        "font = ImageFont.truetype(\"arialbd.ttf\", size=34)\n",
        "draw.text(position, \"2\", fill=\"green\", font=font)\n",
        "font = ImageFont.truetype(\"arial.ttf\", size=34)\n",
        "draw.text(position, \"2\", fill=\"white\", font=font)\n",
        "\n",
        "draw.rectangle([50, 755, 540, 780], outline=\"white\", width=5)\n",
        "draw.rectangle([50, 755, 540, 780], outline=\"green\", width=2)\n",
        "\n",
        "position = (20, 750)\n",
        "font = ImageFont.truetype(\"arialbd.ttf\", size=34)\n",
        "draw.text(position, \"3\", fill=\"green\", font=font)\n",
        "font = ImageFont.truetype(\"arial.ttf\", size=34)\n",
        "draw.text(position, \"3\", fill=\"white\", font=font)\n",
        "\n",
        "draw.rectangle([50, 780, 540, 810], outline=\"white\", width=5)\n",
        "draw.rectangle([50, 780, 540, 810], outline=\"green\", width=2)\n",
        "\n",
        "position = (20, 780)\n",
        "font = ImageFont.truetype(\"arialbd.ttf\", size=34)\n",
        "draw.text(position, \"4\", fill=\"green\", font=font)\n",
        "font = ImageFont.truetype(\"arial.ttf\", size=34)\n",
        "draw.text(position, \"4\", fill=\"white\", font=font)\n",
        "\n",
        "cropped_image.resize((int(0.15 * org_width), int(org_height * 0.5)), Image.Resampling.LANCZOS)"
      ],
      "id": "3d266f79",
      "execution_count": null,
      "outputs": []
    },
    {
      "cell_type": "markdown",
      "metadata": {},
      "source": [
        "## 4.5 Execute the fine tuning process\n",
        "\n",
        "- Click the \"Fine tune model\" button to run the training process.\n",
        "\n",
        "::: {.callout-note}\n",
        "Depending on your computer resources (RAM, CPU), this process might take some minutes to complete. If you have a dedicated GPU device, this can take a couple of seconds instead.\n",
        ":::\n"
      ],
      "id": "1f2c277e"
    },
    {
      "cell_type": "code",
      "metadata": {},
      "source": [
        "#| echo: false\n",
        "screenshot = viewer.screenshot(canvas_only=False, flash=False)\n",
        "\n",
        "image = Image.fromarray(screenshot)\n",
        "\n",
        "org_height, org_width = image.height, image.width\n",
        "\n",
        "roi = (org_width * 0.7, 0, org_width, org_height)\n",
        "\n",
        "# Crop the image\n",
        "cropped_image = image.crop(roi)\n",
        "\n",
        "draw = ImageDraw.Draw(cropped_image)\n",
        "\n",
        "# Draw a red rectangle\n",
        "draw.rectangle([245, 880, 405, 920], outline=\"white\", width=5)\n",
        "draw.rectangle([245, 880, 405, 920], outline=\"green\", width=2)\n",
        "\n",
        "cropped_image.resize((int(0.15 * org_width), int(org_height * 0.5)), Image.Resampling.LANCZOS)"
      ],
      "id": "b6826668",
      "execution_count": null,
      "outputs": []
    },
    {
      "cell_type": "code",
      "metadata": {},
      "source": [
        "#| echo: false\n",
        "acquisition_fun_cfg.fine_tune()"
      ],
      "id": "213cb5cb",
      "execution_count": null,
      "outputs": []
    },
    {
      "cell_type": "markdown",
      "metadata": {},
      "source": [
        "## 4.6 Review the fine tuned segmentation\n"
      ],
      "id": "3ee08673"
    },
    {
      "cell_type": "code",
      "metadata": {},
      "source": [
        "#| echo: false\n",
        "screenshot = viewer.screenshot(canvas_only=False, flash=False)\n",
        "image = Image.fromarray(screenshot)\n",
        "image"
      ],
      "id": "aec994c5",
      "execution_count": null,
      "outputs": []
    }
  ],
  "metadata": {
    "kernelspec": {
      "name": "python3",
      "language": "python",
      "display_name": "Python 3 (ipykernel)",
      "path": "C:\\Users\\cervaf\\AppData\\Local\\miniforge3\\envs\\activelearning\\share\\jupyter\\kernels\\python3"
    }
  },
  "nbformat": 4,
  "nbformat_minor": 5
}